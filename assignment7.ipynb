{
 "cells": [
  {
   "cell_type": "code",
   "execution_count": 46,
   "metadata": {},
   "outputs": [],
   "source": [
    "'''\n",
    "Q. 주어진 pl과 src를 사용하여 longest matching을 구현해 주세요. \n",
    "'''\n",
    "\n",
    "pl = { \"ab\": \"xxx\", \"cde\": \"yyy\", \"rr\": \"QQ\", \"cdefgh\": \"zzz\", \"z\" : \"X\"}\n",
    "src = \"qqq abcde rrr abcdefghz\"\n",
    "\n",
    "'''\n",
    "코드 설명\n",
    "- 가장 긴 문자열부터 <***>으로 치환하여 두번째 반복문에서 일괄 치환\n",
    "- 순서대로 저장되는 list의 특성 사용 (2)\n",
    "- <> 를 붙여준 이유는 ngram의 시작과 끝을 구별하기 위해서 (3)\n",
    "'''"
   ]
  },
  {
   "cell_type": "code",
   "execution_count": 44,
   "metadata": {},
   "outputs": [],
   "source": [
    "import re\n",
    "\n",
    "maxlen = len(max(pl, key=len))\n",
    "\n",
    "cg_list = []\n",
    "for j in range(maxlen, 0, -1):\n",
    "    for i in range(len(src)-(i-1)):\n",
    "        if src[i:i+j] in pl:\n",
    "            cg_list.append(pl[src[i:j+i]]) # (2)\n",
    "            a = len(src[i:i+j])*'*'\n",
    "            src = src[:i]+f'<{a}>'+src[j+i:] # (3)\n",
    "\n",
    "for i in range(maxlen, 0, -1):\n",
    "    s = '\\*'*i\n",
    "    while re.search(f\"<{s}>\", src): \n",
    "        m = re.search(f\"<{s}>\", src)\n",
    "        src = src[:m.start()]+cg_list.pop(0)+src[m.end():]"
   ]
  },
  {
   "cell_type": "code",
   "execution_count": 45,
   "metadata": {},
   "outputs": [
    {
     "name": "stdout",
     "output_type": "stream",
     "text": [
      "qqq xxxyyy QQr xxxzzzX\n"
     ]
    }
   ],
   "source": [
    "print(src)"
   ]
  },
  {
   "cell_type": "code",
   "execution_count": null,
   "metadata": {},
   "outputs": [],
   "source": []
  }
 ],
 "metadata": {
  "kernelspec": {
   "display_name": "Python 3",
   "language": "python",
   "name": "python3"
  },
  "language_info": {
   "codemirror_mode": {
    "name": "ipython",
    "version": 3
   },
   "file_extension": ".py",
   "mimetype": "text/x-python",
   "name": "python",
   "nbconvert_exporter": "python",
   "pygments_lexer": "ipython3",
   "version": "3.6.9"
  }
 },
 "nbformat": 4,
 "nbformat_minor": 4
}
