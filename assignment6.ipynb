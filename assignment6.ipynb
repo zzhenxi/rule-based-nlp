{
 "cells": [
  {
   "cell_type": "markdown",
   "metadata": {},
   "source": [
    "패턴 기반 문자열 치환과 사전 기반 문자열 치환\n",
    "- 문자열 크기 변형에 주의 (인덱스 사용하여 유동적으로 변하는 문자열에 맞춰 치환할 수 있도록 한다.)"
   ]
  },
  {
   "cell_type": "code",
   "execution_count": 4,
   "metadata": {},
   "outputs": [
    {
     "name": "stdout",
     "output_type": "stream",
     "text": [
      "before: 인간적으로,,,,,,,   >>>>>>도구리 티셔츠<<<<<     팔아야 하는거 아니냐?????? 돈은 있으니 빨리 팔아라.... 아니, 팔아주세요.\n",
      "after: 인간적으로, >도구리 티셔츠< 팔아야 하는거 아니냐? 돈은 있으니 빨리 팔아라. 아니, 팔아주세요.\n"
     ]
    }
   ],
   "source": [
    "'''\n",
    "패턴 기반 문자열 치환 문제\n",
    "문제1) 2번 이상 반복되는 기호 및 공백을 하나로 치환하라. (단, 기호 뒤에는 공백 하나가 있어야 함)\n",
    "'''\n",
    "import re\n",
    "\n",
    "txt = '인간적으로,,,,,,,   >>>>>>도구리 티셔츠<<<<<     팔아야 하는거 아니냐?????? 돈은 있으니 빨리 팔아라.... 아니, 팔아주세요.'\n",
    "print('before:', txt)\n",
    "\n",
    "k=0\n",
    "for m in re.finditer('([^가-힣])\\\\1{2,}', txt):\n",
    "    i,j = m.start(), m.end()\n",
    "    edicted_txt = m.group()[0]\n",
    "    txt = txt[:i+k] + edicted_txt + txt[j+k:]\n",
    "    k+=len(edicted_txt)-len(m.group())\n",
    "\n",
    "print('after:', txt)"
   ]
  },
  {
   "cell_type": "code",
   "execution_count": 5,
   "metadata": {},
   "outputs": [
    {
     "name": "stdout",
     "output_type": "stream",
     "text": [
      "before: わたしがいちばんすきなたべものはやっぱりチキンだ。まいにちたべられる。\n",
      "after: 私が一番好きな食べ物はやっぱりチキンだ。毎日食べられる。\n"
     ]
    }
   ],
   "source": [
    "'''\n",
    "사전 기반 문자열 치환 문제\n",
    "문제2) 요미가나로 쓰여있는 일본어 문자열을 후리가나 사전을 참고하여 후리가나에서 한자로 치환하라.\n",
    "* 요미가나 : 한자 단어 없이 그 발음만 쓰여진 문장\n",
    "* 후리가나 : 한자의 읽는 방식을 히라가나로 표기한 것\n",
    "'''\n",
    "\n",
    "huri_dic={'わたし':'私', 'いちばん':'一番', 'すき':'好き', 'たべ':'食べ', 'もの':'物', 'まいにち':'毎日'}\n",
    "\n",
    "yomi = 'わたしがいちばんすきなたべものはやっぱりチキンだ。まいにちたべられる。' \n",
    "# 내가 가장 좋아하는 음식은 역시 치킨이다. 매일 먹을 수 있다..\n",
    "print('before:', yomi)\n",
    "\n",
    "i = 0\n",
    "while i < len(yomi):\n",
    "    max_ngram = len(max(huri_dic, key=len))\n",
    "    for j in range(min(len(yomi), max_ngram+i), i, -1): # 첫 인덱스는 포함할 필요 X, 마지막 인덱스는 포함하여야 하므로 거꾸로 반복\n",
    "        ngram = yomi[i:j]\n",
    "        if ngram in huri_dic:\n",
    "            yomi = yomi[:i]+huri_dic[ngram]+yomi[j:]\n",
    "            i += len(huri_dic[ngram])\n",
    "            break\n",
    "    else: \n",
    "        i += 1\n",
    "\n",
    "print('after:', yomi)"
   ]
  },
  {
   "cell_type": "code",
   "execution_count": null,
   "metadata": {},
   "outputs": [],
   "source": []
  }
 ],
 "metadata": {
  "kernelspec": {
   "display_name": "Python 3",
   "language": "python",
   "name": "python3"
  },
  "language_info": {
   "codemirror_mode": {
    "name": "ipython",
    "version": 3
   },
   "file_extension": ".py",
   "mimetype": "text/x-python",
   "name": "python",
   "nbconvert_exporter": "python",
   "pygments_lexer": "ipython3",
   "version": "3.6.9"
  }
 },
 "nbformat": 4,
 "nbformat_minor": 4
}
