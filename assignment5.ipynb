{
 "cells": [
  {
   "cell_type": "code",
   "execution_count": 9,
   "metadata": {},
   "outputs": [],
   "source": [
    "### Q. 주어진 문자열을 pl사전에 나오는 key의 value로 치환해 주세요. \n",
    "import re\n",
    "pl = {\"aaa\": \"AA\", \"bbb\": \"BBBBB\"}\n",
    "txt = \"sdskjld aaadskkkk fdfdf qqqbbbwqmf\""
   ]
  },
  {
   "cell_type": "code",
   "execution_count": 10,
   "metadata": {},
   "outputs": [
    {
     "name": "stdout",
     "output_type": "stream",
     "text": [
      "sdskjld Adskkkk fdfdf qqqBwqmf\n"
     ]
    }
   ],
   "source": [
    "k=0\n",
    "for m in re.finditer(f'{\"|\".join(pl.keys())}', txt):\n",
    "    i,j = m.start(), m.end()\n",
    "    a = m.group()\n",
    "    b = a[0].upper()\n",
    "    txt = txt[:i+k] + b +txt[j+k:]\n",
    "    k+=len(b)-len(a)\n",
    "\n",
    "print(txt)"
   ]
  },
  {
   "cell_type": "code",
   "execution_count": 11,
   "metadata": {},
   "outputs": [
    {
     "name": "stdout",
     "output_type": "stream",
     "text": [
      "sdskjld AdsK fdfdMkkf QBwqmF\n"
     ]
    }
   ],
   "source": [
    "### 저번 시간 복습\n",
    "txt = 'sdskjld aaadskkkk fdfdmmmmmkkf qqqbbbwqmfff'\n",
    "\n",
    "k=0\n",
    "\n",
    "for m in re.finditer('(.)\\\\1{2,}', txt):\n",
    "    i,j = m.start(), m.end()\n",
    "    a = m.group()\n",
    "    b = a[0].upper()\n",
    "    txt = txt[:i+k] + b + txt[j+k:]\n",
    "    k+=len(b)-len(a)\n",
    "\n",
    "print(txt)"
   ]
  }
 ],
 "metadata": {
  "kernelspec": {
   "display_name": "Python 3",
   "language": "python",
   "name": "python3"
  },
  "language_info": {
   "codemirror_mode": {
    "name": "ipython",
    "version": 3
   },
   "file_extension": ".py",
   "mimetype": "text/x-python",
   "name": "python",
   "nbconvert_exporter": "python",
   "pygments_lexer": "ipython3",
   "version": "3.6.9"
  }
 },
 "nbformat": 4,
 "nbformat_minor": 4
}
