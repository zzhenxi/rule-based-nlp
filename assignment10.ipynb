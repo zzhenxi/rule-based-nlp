{
 "cells": [
  {
   "cell_type": "code",
   "execution_count": 76,
   "metadata": {
    "scrolled": true
   },
   "outputs": [],
   "source": [
    "Q. 아래의 a 텍스트를 b 텍스트와 같이 tag를 정제하세요. 정제시 두가지 조건을 지켜주세요. (여기서 유의할 점은 opening tag와 closing tag의 쌍 입니다.) \n",
    "    1. br, li, p 태그는 원본 그대로 유지\n",
    "    2. br, li, p 태그 이외의 태그는 '/htag숫자' 로 정제 \n",
    " \n",
    "a = \"<div data-contents-type=\"text\">드디어 이번 이벤해서<div data-contents-type= \"text\">올 축6 붉귀, 푸귀, 쌍체반 2개 6짤 만들었는데</div><div data-contents-type=\"text\">창고에 썩던 걍 검귀 하나 질렀는데 다이렉트로 6 뜨네요;;; 축이 아니고 걍이라 이거 애매한데 ;;;;&nbsp;</div><div data-contents-type=\"text\"><br></div><div data-contents-type=\"text\">이거 축6 만들라면 다음 이벤때 걍검귀 하나 또 6 만들고 합쳐야 하는데, 그돈씨 축5 사냥꾼 <strong>팬던트</strong> 6가고 말지요.</div><div data-contents-type=\"text\">검귀가 사냥할때 도움되나요? &gt; 착용은 어차피 2개만 되니깐 3개중 2개만 쓰기도 하고 애매하네요;;;</div><div data-contents-type=\"text\">논피서버고 은기사 <li>던전2층</li>이랑 <li>본던2층</li>, <li>버땅 사냥</li>만 갑니다. 89쪼렙 깡통기사라서요</div><p>댓글 미리 감사드립니다.</p></div>\"\n",
    "b = \"<htag1>드디어 이번 이벤해서<htag2>올 축6 붉귀, 푸귀, 쌍체반 2개 6짤 만들었는데</htag2><htag3>창고에 썩던 걍 검귀 하나 질렀는데 다이렉트로 6 뜨네요;;; 축이 아니고 걍이라 이거 애매한데 ;;;;&nbsp;</htag3><htag4><br></htag4><htag5>이거 축6 만들라면 다음 이벤때 걍검귀 하나 또 6 만들고 합쳐야 하는데, 그돈씨 축5 사냥꾼 <htag6>팬던트</htag6> 6가고 말지요.</htag5><htag7>검귀가 사냥할때 도움되나요? &gt; 착용은 어차피 2개만 되니깐 3개중 2개만 쓰기도 하고 애매하네요;;;</htag7><htag8>논피서버고 은기사 <li>던전2층</li>이랑 <li>본던2층</li>, <li>버땅 사냥</li>만 갑니다. 89쪼렙 깡통기사라서요</htag8><p>댓글 미리 감사드립니다.</p></htag1>\""
   ]
  },
  {
   "cell_type": "code",
   "execution_count": 74,
   "metadata": {},
   "outputs": [],
   "source": [
    "import re \n",
    "\n",
    "def convert_tag(txt, tag_to_pass={}):\n",
    "    k = 0\n",
    "    stack = []\n",
    "    tag_num = 1\n",
    "    \n",
    "    for m in re.finditer('<.*?>', txt):\n",
    "        tag = m.group()\n",
    "        t = re.sub('</?|>', '', tag)\n",
    "        if t not in tag_to_pass:\n",
    "            if not tag.startswith('</'):\n",
    "                stack.append(tag_num)\n",
    "                add_tag = f'<htag{tag_num}>'\n",
    "                tag_num += 1\n",
    "            else: \n",
    "                use_num = stack.pop()\n",
    "                add_tag = f'</htag{use_num}>'\n",
    "            i,j = m.start(), m.end()\n",
    "            txt = txt[:i+k] + add_tag + txt[j+k:]\n",
    "            k += len(add_tag)-len(tag)\n",
    "    return txt"
   ]
  },
  {
   "cell_type": "code",
   "execution_count": 75,
   "metadata": {},
   "outputs": [
    {
     "data": {
      "text/plain": [
       "'<htag1>드디어 이번 이벤해서<htag2>올 축6 붉귀, 푸귀, 쌍체반 2개 6짤 만들었는데</htag2><htag3>창고에 썩던 걍 검귀 하나 질렀는데 다이렉트로 6 뜨네요;;; 축이 아니고 걍이라 이거 애매한데 ;;;;&nbsp;</htag3><htag4><br></htag4><htag5>이거 축6 만들라면 다음 이벤때 걍검귀 하나 또 6 만들고 합쳐야 하는데, 그돈씨 축5 사냥꾼 <htag6>팬던트</htag6> 6가고 말지요.</htag5><htag7>검귀가 사냥할때 도움되나요? &gt; 착용은 어차피 2개만 되니깐 3개중 2개만 쓰기도 하고 애매하네요;;;</htag7><htag8>논피서버고 은기사 <li>던전2층</li>이랑 <li>본던2층</li>, <li>버땅 사냥</li>만 갑니다. 89쪼렙 깡통기사라서요</htag8><p>댓글 미리 감사드립니다.</p></htag1>'"
      ]
     },
     "execution_count": 75,
     "metadata": {},
     "output_type": "execute_result"
    }
   ],
   "source": [
    "txt = '<div data-contents-type=\"text\">드디어 이번 이벤해서<div data-contents-type= \"text\">올 축6 붉귀, 푸귀, 쌍체반 2개 6짤 만들었는데</div><div data-contents-type=\"text\">창고에 썩던 걍 검귀 하나 질렀는데 다이렉트로 6 뜨네요;;; 축이 아니고 걍이라 이거 애매한데 ;;;;&nbsp;</div><div data-contents-type=\"text\"><br></div><div data-contents-type=\"text\">이거 축6 만들라면 다음 이벤때 걍검귀 하나 또 6 만들고 합쳐야 하는데, 그돈씨 축5 사냥꾼 <strong>팬던트</strong> 6가고 말지요.</div><div data-contents-type=\"text\">검귀가 사냥할때 도움되나요? &gt; 착용은 어차피 2개만 되니깐 3개중 2개만 쓰기도 하고 애매하네요;;;</div><div data-contents-type=\"text\">논피서버고 은기사 <li>던전2층</li>이랑 <li>본던2층</li>, <li>버땅 사냥</li>만 갑니다. 89쪼렙 깡통기사라서요</div><p>댓글 미리 감사드립니다.</p></div>'\n",
    "tag_to_pass = {'br', 'li', 'p'}\n",
    "\n",
    "convert_tag(txt, tag_to_pass)"
   ]
  }
 ],
 "metadata": {
  "kernelspec": {
   "display_name": "Python 3",
   "language": "python",
   "name": "python3"
  },
  "language_info": {
   "codemirror_mode": {
    "name": "ipython",
    "version": 3
   },
   "file_extension": ".py",
   "mimetype": "text/x-python",
   "name": "python",
   "nbconvert_exporter": "python",
   "pygments_lexer": "ipython3",
   "version": "3.6.9"
  }
 },
 "nbformat": 4,
 "nbformat_minor": 4
}
