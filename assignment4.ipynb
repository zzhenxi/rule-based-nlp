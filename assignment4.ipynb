{
 "cells": [
  {
   "cell_type": "code",
   "execution_count": 21,
   "metadata": {},
   "outputs": [],
   "source": [
    "'''\n",
    "Q. 주어진 txt에서 2개 초과로 반복되는 문자들을(예.aaa) 대문자 1개로(예.A) 치환하여 out과 같이 출력해 주세요. (~6/9)\n",
    "'''\n",
    "txt = 'sdskjld aaadskkkk fdfdmmmmmkkf qqqbbbwqmfff'\n",
    "out = 'sdskjld AdsK fdfdMkkf QBwqmF'"
   ]
  },
  {
   "cell_type": "code",
   "execution_count": 18,
   "metadata": {},
   "outputs": [],
   "source": [
    "def replace_str(txt):\n",
    "    out_str = ''\n",
    "    for i, c in enumerate(txt):\n",
    "        try :\n",
    "            if c == out_str[-1].lower(): # previous c is uppercase & same as current c\n",
    "                continue\n",
    "        except :\n",
    "            pass\n",
    "        if txt[i:i+3] == c*3:\n",
    "            out_str = out_str+c.upper()\n",
    "        else : \n",
    "            out_str = out_str+c\n",
    "    print(out_str)"
   ]
  },
  {
   "cell_type": "code",
   "execution_count": 19,
   "metadata": {},
   "outputs": [
    {
     "name": "stdout",
     "output_type": "stream",
     "text": [
      "sdskjld AdsK fdfdMkf QBwqmF\n"
     ]
    }
   ],
   "source": [
    "replace_str(txt)"
   ]
  }
 ],
 "metadata": {
  "kernelspec": {
   "display_name": "Python 3",
   "language": "python",
   "name": "python3"
  },
  "language_info": {
   "codemirror_mode": {
    "name": "ipython",
    "version": 3
   },
   "file_extension": ".py",
   "mimetype": "text/x-python",
   "name": "python",
   "nbconvert_exporter": "python",
   "pygments_lexer": "ipython3",
   "version": "3.6.9"
  }
 },
 "nbformat": 4,
 "nbformat_minor": 4
}
