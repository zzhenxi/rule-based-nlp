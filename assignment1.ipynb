{
 "cells": [
  {
   "cell_type": "markdown",
   "metadata": {},
   "source": [
    "Q. 아래의 주어진 문장에서 각 단어들의 빈도를 구해주세요. \n",
    "\n",
    "sent = \"그간 코로나19로 인한 장기간 여러 어려움에도 불구하고, 극복의 과정에 최선을 다 해주고 계신 NC사우님들께 다시 한번 깊은 감사의 인사 드립니다.\""
   ]
  },
  {
   "cell_type": "markdown",
   "metadata": {},
   "source": [
    "### ver.1"
   ]
  },
  {
   "cell_type": "code",
   "execution_count": 191,
   "metadata": {},
   "outputs": [],
   "source": [
    "sent = \"그간 코로나19로.. 인한 장기간 여러 어려움에도 불구하고, 극복의 과~정에 최~~~선을 다 해주고 계신 NC사우님들께!!! 다시 한번 깊은 감사의 인사! 드립니다. 장기간 최선을 다해 주셔서 감사의 인사 드리겠습니다. 최선을 다해 주신 점 감사합니다.\""
   ]
  },
  {
   "cell_type": "code",
   "execution_count": 192,
   "metadata": {},
   "outputs": [],
   "source": [
    "def wordCount(sent):\n",
    "    wordcount = {}\n",
    "    # 단어 갯수 count\n",
    "    for w in sent.split():\n",
    "        if w not in wordcount:\n",
    "            wordcount[w] = 0\n",
    "        wordcount[w] = wordcount[w]+1\n",
    "    # value 값 기준으로 단어 정렬 \n",
    "    sorted_wordcount = sorted(wordcount.items(), key=lambda item: -item[1])\n",
    "    for k,v in sorted_wordcount:\n",
    "        print(v, k)"
   ]
  },
  {
   "cell_type": "code",
   "execution_count": 193,
   "metadata": {},
   "outputs": [
    {
     "name": "stdout",
     "output_type": "stream",
     "text": [
      "2 장기간\n",
      "2 감사의\n",
      "2 최선을\n",
      "2 다해\n",
      "1 그간\n",
      "1 코로나19로..\n",
      "1 인한\n",
      "1 여러\n",
      "1 어려움에도\n",
      "1 불구하고,\n",
      "1 극복의\n",
      "1 과~정에\n",
      "1 최~~~선을\n",
      "1 다\n",
      "1 해주고\n",
      "1 계신\n",
      "1 NC사우님들께!!!\n",
      "1 다시\n",
      "1 한번\n",
      "1 깊은\n",
      "1 인사!\n",
      "1 드립니다.\n",
      "1 주셔서\n",
      "1 인사\n",
      "1 드리겠습니다.\n",
      "1 주신\n",
      "1 점\n",
      "1 감사합니다.\n"
     ]
    }
   ],
   "source": [
    "wordCount(sent)"
   ]
  },
  {
   "cell_type": "markdown",
   "metadata": {},
   "source": [
    "### ver.2"
   ]
  },
  {
   "cell_type": "code",
   "execution_count": 194,
   "metadata": {},
   "outputs": [],
   "source": [
    "sent = \"그간 코로나19로.. 인한 장기간 ?여러 어려움에도 불구하고, 극복의 과~정에 최~~~선을 다 해주고 계신 NC사우님들께!!! 다시 한번 깊은 감사의 인사! 드립니다. 장기간 최선을 다해 주셔서 감사의 인사 드리겠습니다. 최선을 다해 주신 점 감사합니다.\""
   ]
  },
  {
   "cell_type": "code",
   "execution_count": 195,
   "metadata": {},
   "outputs": [],
   "source": [
    "import re\n",
    "\n",
    "def wordCount(sent):\n",
    "    wordcount = {}\n",
    "    # 특수문자 처리 \n",
    "    punct = re.findall('[^가-힣,A-Z,a-z,0-9, ]', sent) # 특수문자 list\n",
    "    no_punct = re.sub('[^가-힣,A-Z,a-z,0-9, ]', '', sent).split() # 특수문자를 제외한 list\n",
    "    # 단어 갯수 count\n",
    "    for w in punct+no_punct:\n",
    "        if w not in wordcount:\n",
    "            wordcount[w] = 0\n",
    "        wordcount[w] = wordcount[w]+1\n",
    "    # value 값 기준으로 단어 정렬 \n",
    "    sorted_wordcount = sorted(wordcount.items(), key=lambda item: -item[1])\n",
    "    for k,v in sorted_wordcount:\n",
    "        print(v, k)"
   ]
  },
  {
   "cell_type": "code",
   "execution_count": 196,
   "metadata": {},
   "outputs": [
    {
     "name": "stdout",
     "output_type": "stream",
     "text": [
      "5 .\n",
      "4 ~\n",
      "4 !\n",
      "3 최선을\n",
      "2 장기간\n",
      "2 감사의\n",
      "2 인사\n",
      "2 다해\n",
      "1 ?\n",
      "1 그간\n",
      "1 코로나19로\n",
      "1 인한\n",
      "1 여러\n",
      "1 어려움에도\n",
      "1 불구하고,\n",
      "1 극복의\n",
      "1 과정에\n",
      "1 다\n",
      "1 해주고\n",
      "1 계신\n",
      "1 NC사우님들께\n",
      "1 다시\n",
      "1 한번\n",
      "1 깊은\n",
      "1 드립니다\n",
      "1 주셔서\n",
      "1 드리겠습니다\n",
      "1 주신\n",
      "1 점\n",
      "1 감사합니다\n"
     ]
    }
   ],
   "source": [
    "wordCount(sent)"
   ]
  },
  {
   "cell_type": "code",
   "execution_count": null,
   "metadata": {},
   "outputs": [],
   "source": []
  }
 ],
 "metadata": {
  "kernelspec": {
   "display_name": "Python 3",
   "language": "python",
   "name": "python3"
  },
  "language_info": {
   "codemirror_mode": {
    "name": "ipython",
    "version": 3
   },
   "file_extension": ".py",
   "mimetype": "text/x-python",
   "name": "python",
   "nbconvert_exporter": "python",
   "pygments_lexer": "ipython3",
   "version": "3.6.9"
  }
 },
 "nbformat": 4,
 "nbformat_minor": 4
}
